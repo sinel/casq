{
 "cells": [
  {
   "cell_type": "code",
   "execution_count": 1,
   "outputs": [],
   "source": [
    "import jax\n",
    "\n",
    "from qiskit_dynamics.array import Array\n",
    "\n",
    "from casq import PulseCircuit, PulseSolver\n",
    "from casq.gates import GaussianPulseGate\n"
   ],
   "metadata": {
    "collapsed": false,
    "ExecuteTime": {
     "end_time": "2023-06-21T13:16:05.883956Z",
     "start_time": "2023-06-21T13:16:04.074380Z"
    }
   }
  },
  {
   "cell_type": "code",
   "execution_count": 2,
   "outputs": [],
   "source": [
    "# Configure to use JAX internally\n",
    "jax.config.update(\"jax_enable_x64\", True)\n",
    "jax.config.update(\"jax_platform_name\", \"cpu\")\n",
    "Array.set_default_backend(\"jax\")\n"
   ],
   "metadata": {
    "collapsed": false,
    "ExecuteTime": {
     "end_time": "2023-06-21T13:16:05.887678Z",
     "start_time": "2023-06-21T13:16:05.885985Z"
    }
   }
  },
  {
   "cell_type": "code",
   "execution_count": 3,
   "outputs": [
    {
     "data": {
      "text/plain": "<Figure size 436.286x200.667 with 1 Axes>",
      "image/png": "[encoded data removed]"
     },
     "execution_count": 3,
     "metadata": {},
     "output_type": "execute_result"
    }
   ],
   "source": [
    "# Create simple circuit with Gaussian pulse as X gate\n",
    "duration = 256\n",
    "amplitude = 0.2\n",
    "sigma = 50\n",
    "x_pulse = GaussianPulseGate(duration, amplitude, sigma, name=\"x-pulse\")\n",
    "circuit = PulseCircuit(1, 1)\n",
    "circuit.pulse(x_pulse, 0)\n",
    "circuit.measure([0], [0])\n",
    "circuit.draw(\"mpl\")\n"
   ],
   "metadata": {
    "collapsed": false,
    "ExecuteTime": {
     "end_time": "2023-06-21T13:16:06.118827Z",
     "start_time": "2023-06-21T13:16:05.887882Z"
    }
   }
  },
  {
   "cell_type": "code",
   "execution_count": 4,
   "outputs": [],
   "source": [
    "solver = PulseSolver.from_backend(\"ibmq_manila\", qubits=[0])\n"
   ],
   "metadata": {
    "collapsed": false,
    "ExecuteTime": {
     "end_time": "2023-06-21T13:16:12.823012Z",
     "start_time": "2023-06-21T13:16:06.119683Z"
    }
   }
  },
  {
   "cell_type": "code",
   "execution_count": 5,
   "outputs": [],
   "source": [
    "solution = solver.solve(\n",
    "    run_input=circuit, steps=100, shots=1024, method=\"jax_odeint\", atol=1e-6, rtol=1e-8, hmax=solver._dt\n",
    ")\n"
   ],
   "metadata": {
    "collapsed": false,
    "ExecuteTime": {
     "end_time": "2023-06-21T13:16:14.403804Z",
     "start_time": "2023-06-21T13:16:12.829632Z"
    }
   }
  },
  {
   "cell_type": "code",
   "execution_count": 6,
   "outputs": [
    {
     "name": "stdout",
     "output_type": "stream",
     "text": [
      "{'0': 561, '1': 463}\n"
     ]
    }
   ],
   "source": [
    "print(solution.counts[-1])\n"
   ],
   "metadata": {
    "collapsed": false,
    "ExecuteTime": {
     "end_time": "2023-06-21T13:16:14.407028Z",
     "start_time": "2023-06-21T13:16:14.404063Z"
    }
   }
  },
  {
   "cell_type": "code",
   "execution_count": 6,
   "outputs": [],
   "source": [],
   "metadata": {
    "collapsed": false,
    "ExecuteTime": {
     "end_time": "2023-06-21T13:16:14.409862Z",
     "start_time": "2023-06-21T13:16:14.408049Z"
    }
   }
  }
 ],
 "metadata": {
  "kernelspec": {
   "display_name": "Python 3",
   "language": "python",
   "name": "python3"
  },
  "language_info": {
   "codemirror_mode": {
    "name": "ipython",
    "version": 2
   },
   "file_extension": ".py",
   "mimetype": "text/x-python",
   "name": "python",
   "nbconvert_exporter": "python",
   "pygments_lexer": "ipython2",
   "version": "2.7.6"
  }
 },
 "nbformat": 4,
 "nbformat_minor": 0
}
