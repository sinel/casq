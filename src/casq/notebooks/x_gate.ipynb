{
 "cells": [
  {
   "cell_type": "code",
   "execution_count": 1,
   "outputs": [],
   "source": [
    "from jax import jit, value_and_grad\n",
    "import numpy as np\n",
    "from qiskit_dynamics.array import wrap, Array\n",
    "from qiskit_dynamics.pulse import InstructionToSignals\n",
    "from scipy.optimize import minimize\n",
    "\n",
    "from qiskit.scheduler.config import ScheduleConfig\n",
    "from qiskit.scheduler.schedule_circuit import schedule_circuit\n",
    "from qiskit import schedule as build_schedule\n",
    "from qiskit.quantum_info import Operator\n",
    "from qiskit_dynamics import Solver\n",
    "from qiskit import QuantumCircuit\n",
    "from qiskit.pulse import Schedule\n",
    "from qiskit_dynamics import DynamicsBackend\n",
    "from qiskit.providers import BackendV1\n",
    "from qiskit_ibm_provider import IBMProvider\n",
    "from qiskit.quantum_info.analysis import hellinger_fidelity\n",
    "\n",
    "from casq import PulseCircuit, PulseSimulator, PulseBackendProperties\n",
    "from casq.common import initialize_jax\n",
    "from casq.gates import GaussianSquarePulseGate\n",
    "\n",
    "initialize_jax()\n",
    "# value_and_grad = wrap(jax.value_and_grad, decorator=True)\n",
    "# jit = wrap(jax.jit, decorator=True)\n",
    "\n",
    "# from jax.config import config\n",
    "# config.update('jax_disable_jit', True)\n"
   ],
   "metadata": {
    "collapsed": false,
    "ExecuteTime": {
     "end_time": "2023-06-29T19:59:13.992159Z",
     "start_time": "2023-06-29T19:59:11.824597Z"
    }
   }
  },
  {
   "cell_type": "code",
   "execution_count": 2,
   "outputs": [],
   "source": [
    "provider = IBMProvider()\n",
    "backend = provider.get_backend(\"ibmq_manila\")\n",
    "config = backend.configuration()\n",
    "dt = config.dt\n",
    "props = backend.properties()\n",
    "w = props.frequency(0)\n",
    "solver_options = {\"method\": \"DOP853\"}\n",
    "solver_options_jax = {\"method\": \"jax_odeint\", \"atol\": 1e-6, \"rtol\": 1e-8, \"hmax\": dt}\n",
    "dynamics_backend = DynamicsBackend.from_backend(\n",
    "    backend=backend,\n",
    "    subsystem_list=[0],\n",
    "    solver_options=solver_options\n",
    ")\n",
    "simulator = PulseSimulator(\n",
    "    solver=dynamics_backend.options.solver,\n",
    "    experiment_result_function=PulseSimulator.get_experiment_result,\n",
    "    solver_options=dynamics_backend.options.solver_options\n",
    ")\n",
    "dynamics_backend_jax = DynamicsBackend.from_backend(\n",
    "    backend=backend,\n",
    "    subsystem_list=[0],\n",
    "    solver_options=solver_options_jax\n",
    ")\n",
    "simulator_jax = PulseSimulator(\n",
    "    solver=dynamics_backend_jax.options.solver,\n",
    "    experiment_result_function=PulseSimulator.get_experiment_result,\n",
    "    solver_options=dynamics_backend_jax.options.solver_options\n",
    ")\n"
   ],
   "metadata": {
    "collapsed": false,
    "ExecuteTime": {
     "end_time": "2023-06-29T19:59:21.171147Z",
     "start_time": "2023-06-29T19:59:13.996056Z"
    }
   }
  },
  {
   "cell_type": "code",
   "execution_count": 3,
   "outputs": [],
   "source": [
    "def build_gate(params):\n",
    "    duration = 230\n",
    "    amplitude = 1\n",
    "    sigma, width = params\n",
    "    return GaussianSquarePulseGate(duration, amplitude, sigma, width, jax=False, name=\"x\")\n",
    "\n",
    "def build_gate_jax(params):\n",
    "    duration = 230\n",
    "    amplitude = 1\n",
    "    sigma, width = params\n",
    "    return GaussianSquarePulseGate(duration, amplitude, sigma, width, jax=True, name=\"x\")\n",
    "\n",
    "def build_circuit(params):\n",
    "    # return pulse.schedule(0, backend=backend, measured=True)\n",
    "    return PulseCircuit.from_pulse(build_gate(params), backend, 0)\n",
    "\n",
    "def build_circuit_jax(params):\n",
    "    # return pulse.schedule(0, backend=backend, measured=True)\n",
    "    return PulseCircuit.from_pulse(build_gate_jax(params), backend, 0)\n",
    "\n",
    "def objective(params):\n",
    "    circuit = build_circuit(params)\n",
    "    counts = simulator.run(\n",
    "        run_input=circuit,\n",
    "    ).result().results[0].data.counts[1]\n",
    "    target = {\"0\": 0, \"1\": 1024}\n",
    "    fidelity = hellinger_fidelity(target, counts)\n",
    "    return 1. - fidelity\n",
    "\n",
    "def objective_jax(params):\n",
    "    circuit = build_circuit_jax(params)\n",
    "    counts = simulator_jax.run(\n",
    "        run_input=circuit,\n",
    "    ).result().results[0].data.counts[1]\n",
    "    target = {\"0\": 0, \"1\": 1024}\n",
    "    fidelity = hellinger_fidelity(target, counts)\n",
    "    return 1. - fidelity\n",
    "\n",
    "value_and_grad_obj = value_and_grad(objective_jax)\n",
    "jit_grad_obj = jit(value_and_grad_obj)\n",
    "\n",
    "initial_params = np.array([10., 10.])\n"
   ],
   "metadata": {
    "collapsed": false,
    "ExecuteTime": {
     "end_time": "2023-06-29T19:59:21.178644Z",
     "start_time": "2023-06-29T19:59:21.175419Z"
    }
   }
  },
  {
   "cell_type": "code",
   "execution_count": 4,
   "outputs": [
    {
     "data": {
      "text/plain": "<Figure size 352.675x200.667 with 1 Axes>",
      "image/png": "[encoded data removed]"
     },
     "execution_count": 4,
     "metadata": {},
     "output_type": "execute_result"
    }
   ],
   "source": [
    "build_circuit(initial_params).draw(\"mpl\")\n"
   ],
   "metadata": {
    "collapsed": false,
    "ExecuteTime": {
     "end_time": "2023-06-29T19:59:21.446422Z",
     "start_time": "2023-06-29T19:59:21.182785Z"
    }
   }
  },
  {
   "cell_type": "code",
   "execution_count": 5,
   "outputs": [
    {
     "data": {
      "text/plain": "<Figure size 1300x165 with 1 Axes>",
      "image/png": "[encoded data removed]"
     },
     "execution_count": 5,
     "metadata": {},
     "output_type": "execute_result"
    }
   ],
   "source": [
    "build_gate(initial_params).pulse().draw()"
   ],
   "metadata": {
    "collapsed": false,
    "ExecuteTime": {
     "end_time": "2023-06-29T19:59:21.615673Z",
     "start_time": "2023-06-29T19:59:21.450825Z"
    }
   }
  },
  {
   "cell_type": "code",
   "execution_count": 6,
   "outputs": [
    {
     "name": "stdout",
     "output_type": "stream",
     "text": [
      "CPU times: user 22 s, sys: 170 ms, total: 22.2 s\n",
      "Wall time: 22.3 s\n"
     ]
    },
    {
     "data": {
      "text/plain": "1.0"
     },
     "execution_count": 6,
     "metadata": {},
     "output_type": "execute_result"
    }
   ],
   "source": [
    "%%time\n",
    "objective(initial_params)\n"
   ],
   "metadata": {
    "collapsed": false,
    "ExecuteTime": {
     "end_time": "2023-06-29T19:59:43.873115Z",
     "start_time": "2023-06-29T19:59:21.620185Z"
    }
   }
  },
  {
   "cell_type": "code",
   "execution_count": 7,
   "outputs": [
    {
     "name": "stdout",
     "output_type": "stream",
     "text": [
      "CPU times: user 855 ms, sys: 36.6 ms, total: 891 ms\n",
      "Wall time: 875 ms\n"
     ]
    },
    {
     "data": {
      "text/plain": "0.8505859375000001"
     },
     "execution_count": 7,
     "metadata": {},
     "output_type": "execute_result"
    }
   ],
   "source": [
    "%%time\n",
    "objective_jax(initial_params)\n"
   ],
   "metadata": {
    "collapsed": false,
    "ExecuteTime": {
     "end_time": "2023-06-29T19:59:44.753527Z",
     "start_time": "2023-06-29T19:59:43.898744Z"
    }
   }
  },
  {
   "cell_type": "code",
   "execution_count": 8,
   "outputs": [
    {
     "ename": "TracerArrayConversionError",
     "evalue": "The numpy.ndarray conversion method __array__() was called on the JAX Tracer object Traced<ShapedArray(complex128[3])>with<JVPTrace(level=3/0)> with\n  primal = Traced<ShapedArray(complex128[3])>with<DynamicJaxprTrace(level=1/0)>\n  tangent = Traced<ShapedArray(complex128[3])>with<JaxprTrace(level=2/0)> with\n    pval = (ShapedArray(complex128[3]), None)\n    recipe = JaxprEqnRecipe(eqn_id=<object object at 0x14b5d1ec0>, in_tracers=(Traced<ShapedArray(complex128[1,3]):JaxprTrace(level=2/0)>,), out_tracer_refs=[<weakref at 0x14ba357b0; to 'JaxprTracer' at 0x14ba35940>], out_avals=[ShapedArray(complex128[3])], primitive=squeeze, params={'dimensions': (0,)}, effects=set(), source_info=SourceInfo(traceback=<jaxlib.xla_extension.Traceback object at 0x14bb28d70>, name_stack=NameStack(stack=(Transform(name='jvp'),))))\nSee https://jax.readthedocs.io/en/latest/errors.html#jax.errors.TracerArrayConversionError",
     "output_type": "error",
     "traceback": [
      "\u001B[0;31m---------------------------------------------------------------------------\u001B[0m",
      "\u001B[0;31mTracerArrayConversionError\u001B[0m                Traceback (most recent call last)",
      "File \u001B[0;32m<timed eval>:1\u001B[0m\n",
      "    \u001B[0;31m[... skipping hidden 20 frame]\u001B[0m\n",
      "Cell \u001B[0;32mIn[3], line 32\u001B[0m, in \u001B[0;36mobjective_jax\u001B[0;34m(params)\u001B[0m\n\u001B[1;32m     30\u001B[0m \u001B[38;5;28;01mdef\u001B[39;00m \u001B[38;5;21mobjective_jax\u001B[39m(params):\n\u001B[1;32m     31\u001B[0m     circuit \u001B[38;5;241m=\u001B[39m build_circuit_jax(params)\n\u001B[0;32m---> 32\u001B[0m     counts \u001B[38;5;241m=\u001B[39m \u001B[43msimulator_jax\u001B[49m\u001B[38;5;241;43m.\u001B[39;49m\u001B[43mrun\u001B[49m\u001B[43m(\u001B[49m\n\u001B[1;32m     33\u001B[0m \u001B[43m        \u001B[49m\u001B[43mrun_input\u001B[49m\u001B[38;5;241;43m=\u001B[39;49m\u001B[43mcircuit\u001B[49m\u001B[43m,\u001B[49m\n\u001B[1;32m     34\u001B[0m \u001B[43m    \u001B[49m\u001B[43m)\u001B[49m\u001B[38;5;241m.\u001B[39mresult()\u001B[38;5;241m.\u001B[39mresults[\u001B[38;5;241m0\u001B[39m]\u001B[38;5;241m.\u001B[39mdata\u001B[38;5;241m.\u001B[39mcounts[\u001B[38;5;241m1\u001B[39m]\n\u001B[1;32m     35\u001B[0m     target \u001B[38;5;241m=\u001B[39m {\u001B[38;5;124m\"\u001B[39m\u001B[38;5;124m0\u001B[39m\u001B[38;5;124m\"\u001B[39m: \u001B[38;5;241m0\u001B[39m, \u001B[38;5;124m\"\u001B[39m\u001B[38;5;124m1\u001B[39m\u001B[38;5;124m\"\u001B[39m: \u001B[38;5;241m1024\u001B[39m}\n\u001B[1;32m     36\u001B[0m     fidelity \u001B[38;5;241m=\u001B[39m hellinger_fidelity(target, counts)\n",
      "File \u001B[0;32m~/Library/Caches/pypoetry/virtualenvs/casq-KTdAezUX-py3.11/lib/python3.11/site-packages/qiskit_dynamics/backend/dynamics_backend.py:403\u001B[0m, in \u001B[0;36mDynamicsBackend.run\u001B[0;34m(self, run_input, validate, **options)\u001B[0m\n\u001B[1;32m    390\u001B[0m job_id \u001B[38;5;241m=\u001B[39m \u001B[38;5;28mstr\u001B[39m(uuid\u001B[38;5;241m.\u001B[39muuid4())\n\u001B[1;32m    391\u001B[0m dynamics_job \u001B[38;5;241m=\u001B[39m DynamicsJob(\n\u001B[1;32m    392\u001B[0m     backend\u001B[38;5;241m=\u001B[39mbackend,\n\u001B[1;32m    393\u001B[0m     job_id\u001B[38;5;241m=\u001B[39mjob_id,\n\u001B[0;32m   (...)\u001B[0m\n\u001B[1;32m    401\u001B[0m     },\n\u001B[1;32m    402\u001B[0m )\n\u001B[0;32m--> 403\u001B[0m \u001B[43mdynamics_job\u001B[49m\u001B[38;5;241;43m.\u001B[39;49m\u001B[43msubmit\u001B[49m\u001B[43m(\u001B[49m\u001B[43m)\u001B[49m\n\u001B[1;32m    405\u001B[0m \u001B[38;5;28;01mreturn\u001B[39;00m dynamics_job\n",
      "File \u001B[0;32m~/Library/Caches/pypoetry/virtualenvs/casq-KTdAezUX-py3.11/lib/python3.11/site-packages/qiskit_dynamics/backend/dynamics_job.py:54\u001B[0m, in \u001B[0;36mDynamicsJob.submit\u001B[0;34m(self)\u001B[0m\n\u001B[1;32m     52\u001B[0m \u001B[38;5;28;01mif\u001B[39;00m \u001B[38;5;28mself\u001B[39m\u001B[38;5;241m.\u001B[39m_result \u001B[38;5;129;01mis\u001B[39;00m \u001B[38;5;129;01mnot\u001B[39;00m \u001B[38;5;28;01mNone\u001B[39;00m:\n\u001B[1;32m     53\u001B[0m     \u001B[38;5;28;01mraise\u001B[39;00m JobError(\u001B[38;5;124m\"\u001B[39m\u001B[38;5;124mDynamics job has already been submitted.\u001B[39m\u001B[38;5;124m\"\u001B[39m)\n\u001B[0;32m---> 54\u001B[0m \u001B[38;5;28mself\u001B[39m\u001B[38;5;241m.\u001B[39m_result \u001B[38;5;241m=\u001B[39m \u001B[38;5;28;43mself\u001B[39;49m\u001B[38;5;241;43m.\u001B[39;49m\u001B[43m_fn\u001B[49m\u001B[43m(\u001B[49m\u001B[43mjob_id\u001B[49m\u001B[38;5;241;43m=\u001B[39;49m\u001B[38;5;28;43mself\u001B[39;49m\u001B[38;5;241;43m.\u001B[39;49m\u001B[43mjob_id\u001B[49m\u001B[43m(\u001B[49m\u001B[43m)\u001B[49m\u001B[43m,\u001B[49m\u001B[43m \u001B[49m\u001B[38;5;241;43m*\u001B[39;49m\u001B[38;5;241;43m*\u001B[39;49m\u001B[38;5;28;43mself\u001B[39;49m\u001B[38;5;241;43m.\u001B[39;49m\u001B[43m_fn_kwargs\u001B[49m\u001B[43m)\u001B[49m\n\u001B[1;32m     55\u001B[0m \u001B[38;5;28mself\u001B[39m\u001B[38;5;241m.\u001B[39m_time_per_step[\u001B[38;5;124m\"\u001B[39m\u001B[38;5;124mCOMPLETED\u001B[39m\u001B[38;5;124m\"\u001B[39m] \u001B[38;5;241m=\u001B[39m datetime\u001B[38;5;241m.\u001B[39mnow()\n",
      "File \u001B[0;32m~/github/sinel/casq/src/casq/pulse_simulator.py:392\u001B[0m, in \u001B[0;36mPulseSimulator._run\u001B[0;34m(self, job_id, t_span, schedules, measurement_subsystems_list, memory_slot_indices_list, num_memory_slots_list)\u001B[0m\n\u001B[1;32m    390\u001B[0m \u001B[38;5;28;01melse\u001B[39;00m:\n\u001B[1;32m    391\u001B[0m     \u001B[38;5;28mself\u001B[39m\u001B[38;5;241m.\u001B[39moptions\u001B[38;5;241m.\u001B[39msolver_options \u001B[38;5;241m=\u001B[39m {\u001B[38;5;124m\"\u001B[39m\u001B[38;5;124mt_eval\u001B[39m\u001B[38;5;124m\"\u001B[39m: auto_t_eval}\n\u001B[0;32m--> 392\u001B[0m \u001B[38;5;28;01mreturn\u001B[39;00m \u001B[38;5;28;43msuper\u001B[39;49m\u001B[43m(\u001B[49m\u001B[43m)\u001B[49m\u001B[38;5;241;43m.\u001B[39;49m\u001B[43m_run\u001B[49m\u001B[43m(\u001B[49m\n\u001B[1;32m    393\u001B[0m \u001B[43m    \u001B[49m\u001B[43mjob_id\u001B[49m\u001B[43m,\u001B[49m\u001B[43m \u001B[49m\u001B[43mt_span\u001B[49m\u001B[43m,\u001B[49m\u001B[43m \u001B[49m\u001B[43mschedules\u001B[49m\u001B[43m,\u001B[49m\n\u001B[1;32m    394\u001B[0m \u001B[43m    \u001B[49m\u001B[43mmeasurement_subsystems_list\u001B[49m\u001B[43m,\u001B[49m\u001B[43m \u001B[49m\u001B[43mmemory_slot_indices_list\u001B[49m\u001B[43m,\u001B[49m\n\u001B[1;32m    395\u001B[0m \u001B[43m    \u001B[49m\u001B[43mnum_memory_slots_list\u001B[49m\n\u001B[1;32m    396\u001B[0m \u001B[43m\u001B[49m\u001B[43m)\u001B[49m\n",
      "File \u001B[0;32m~/Library/Caches/pypoetry/virtualenvs/casq-KTdAezUX-py3.11/lib/python3.11/site-packages/qiskit_dynamics/backend/dynamics_backend.py:423\u001B[0m, in \u001B[0;36mDynamicsBackend._run\u001B[0;34m(self, job_id, t_span, schedules, measurement_subsystems_list, memory_slot_indices_list, num_memory_slots_list)\u001B[0m\n\u001B[1;32m    420\u001B[0m \u001B[38;5;28;01mif\u001B[39;00m y0 \u001B[38;5;241m==\u001B[39m \u001B[38;5;124m\"\u001B[39m\u001B[38;5;124mground_state\u001B[39m\u001B[38;5;124m\"\u001B[39m:\n\u001B[1;32m    421\u001B[0m     y0 \u001B[38;5;241m=\u001B[39m Statevector(\u001B[38;5;28mself\u001B[39m\u001B[38;5;241m.\u001B[39m_dressed_states[:, \u001B[38;5;241m0\u001B[39m])\n\u001B[0;32m--> 423\u001B[0m solver_results \u001B[38;5;241m=\u001B[39m \u001B[38;5;28;43mself\u001B[39;49m\u001B[38;5;241;43m.\u001B[39;49m\u001B[43moptions\u001B[49m\u001B[38;5;241;43m.\u001B[39;49m\u001B[43msolver\u001B[49m\u001B[38;5;241;43m.\u001B[39;49m\u001B[43msolve\u001B[49m\u001B[43m(\u001B[49m\n\u001B[1;32m    424\u001B[0m \u001B[43m    \u001B[49m\u001B[43mt_span\u001B[49m\u001B[38;5;241;43m=\u001B[39;49m\u001B[43mt_span\u001B[49m\u001B[43m,\u001B[49m\u001B[43m \u001B[49m\u001B[43my0\u001B[49m\u001B[38;5;241;43m=\u001B[39;49m\u001B[43my0\u001B[49m\u001B[43m,\u001B[49m\u001B[43m \u001B[49m\u001B[43msignals\u001B[49m\u001B[38;5;241;43m=\u001B[39;49m\u001B[43mschedules\u001B[49m\u001B[43m,\u001B[49m\u001B[43m \u001B[49m\u001B[38;5;241;43m*\u001B[39;49m\u001B[38;5;241;43m*\u001B[39;49m\u001B[38;5;28;43mself\u001B[39;49m\u001B[38;5;241;43m.\u001B[39;49m\u001B[43moptions\u001B[49m\u001B[38;5;241;43m.\u001B[39;49m\u001B[43msolver_options\u001B[49m\n\u001B[1;32m    425\u001B[0m \u001B[43m\u001B[49m\u001B[43m)\u001B[49m\n\u001B[1;32m    427\u001B[0m \u001B[38;5;66;03m# compute results for each experiment\u001B[39;00m\n\u001B[1;32m    428\u001B[0m experiment_names \u001B[38;5;241m=\u001B[39m [schedule\u001B[38;5;241m.\u001B[39mname \u001B[38;5;28;01mfor\u001B[39;00m schedule \u001B[38;5;129;01min\u001B[39;00m schedules]\n",
      "File \u001B[0;32m~/Library/Caches/pypoetry/virtualenvs/casq-KTdAezUX-py3.11/lib/python3.11/site-packages/qiskit_dynamics/solvers/solver_classes.py:537\u001B[0m, in \u001B[0;36mSolver.solve\u001B[0;34m(self, t_span, y0, signals, convert_results, **kwargs)\u001B[0m\n\u001B[1;32m    529\u001B[0m     all_results \u001B[38;5;241m=\u001B[39m \u001B[38;5;28mself\u001B[39m\u001B[38;5;241m.\u001B[39m_solve_schedule_list_jax(\n\u001B[1;32m    530\u001B[0m         t_span_list\u001B[38;5;241m=\u001B[39mt_span_list,\n\u001B[1;32m    531\u001B[0m         y0_list\u001B[38;5;241m=\u001B[39my0_list,\n\u001B[0;32m   (...)\u001B[0m\n\u001B[1;32m    534\u001B[0m         \u001B[38;5;241m*\u001B[39m\u001B[38;5;241m*\u001B[39mkwargs,\n\u001B[1;32m    535\u001B[0m     )\n\u001B[1;32m    536\u001B[0m \u001B[38;5;28;01melse\u001B[39;00m:\n\u001B[0;32m--> 537\u001B[0m     all_results \u001B[38;5;241m=\u001B[39m \u001B[38;5;28;43mself\u001B[39;49m\u001B[38;5;241;43m.\u001B[39;49m\u001B[43m_solve_list\u001B[49m\u001B[43m(\u001B[49m\n\u001B[1;32m    538\u001B[0m \u001B[43m        \u001B[49m\u001B[43mt_span_list\u001B[49m\u001B[38;5;241;43m=\u001B[39;49m\u001B[43mt_span_list\u001B[49m\u001B[43m,\u001B[49m\n\u001B[1;32m    539\u001B[0m \u001B[43m        \u001B[49m\u001B[43my0_list\u001B[49m\u001B[38;5;241;43m=\u001B[39;49m\u001B[43my0_list\u001B[49m\u001B[43m,\u001B[49m\n\u001B[1;32m    540\u001B[0m \u001B[43m        \u001B[49m\u001B[43msignals_list\u001B[49m\u001B[38;5;241;43m=\u001B[39;49m\u001B[43msignals_list\u001B[49m\u001B[43m,\u001B[49m\n\u001B[1;32m    541\u001B[0m \u001B[43m        \u001B[49m\u001B[43mconvert_results\u001B[49m\u001B[38;5;241;43m=\u001B[39;49m\u001B[43mconvert_results\u001B[49m\u001B[43m,\u001B[49m\n\u001B[1;32m    542\u001B[0m \u001B[43m        \u001B[49m\u001B[38;5;241;43m*\u001B[39;49m\u001B[38;5;241;43m*\u001B[39;49m\u001B[43mkwargs\u001B[49m\u001B[43m,\u001B[49m\n\u001B[1;32m    543\u001B[0m \u001B[43m    \u001B[49m\u001B[43m)\u001B[49m\n\u001B[1;32m    545\u001B[0m \u001B[38;5;66;03m# ensure model signals are empty\u001B[39;00m\n\u001B[1;32m    546\u001B[0m \u001B[38;5;28mself\u001B[39m\u001B[38;5;241m.\u001B[39m_set_new_signals(\u001B[38;5;28;01mNone\u001B[39;00m)\n",
      "File \u001B[0;32m~/Library/Caches/pypoetry/virtualenvs/casq-KTdAezUX-py3.11/lib/python3.11/site-packages/qiskit_dynamics/solvers/solver_classes.py:581\u001B[0m, in \u001B[0;36mSolver._solve_list\u001B[0;34m(self, t_span_list, y0_list, signals_list, convert_results, **kwargs)\u001B[0m\n\u001B[1;32m    578\u001B[0m     results\u001B[38;5;241m.\u001B[39my \u001B[38;5;241m=\u001B[39m format_final_states(results\u001B[38;5;241m.\u001B[39my, \u001B[38;5;28mself\u001B[39m\u001B[38;5;241m.\u001B[39mmodel, y0_input, y0_cls)\n\u001B[1;32m    580\u001B[0m     \u001B[38;5;28;01mif\u001B[39;00m y0_cls \u001B[38;5;129;01mis\u001B[39;00m \u001B[38;5;129;01mnot\u001B[39;00m \u001B[38;5;28;01mNone\u001B[39;00m \u001B[38;5;129;01mand\u001B[39;00m convert_results:\n\u001B[0;32m--> 581\u001B[0m         results\u001B[38;5;241m.\u001B[39my \u001B[38;5;241m=\u001B[39m \u001B[43m[\u001B[49m\u001B[43mstate_type_wrapper\u001B[49m\u001B[43m(\u001B[49m\u001B[43myi\u001B[49m\u001B[43m)\u001B[49m\u001B[43m \u001B[49m\u001B[38;5;28;43;01mfor\u001B[39;49;00m\u001B[43m \u001B[49m\u001B[43myi\u001B[49m\u001B[43m \u001B[49m\u001B[38;5;129;43;01min\u001B[39;49;00m\u001B[43m \u001B[49m\u001B[43mresults\u001B[49m\u001B[38;5;241;43m.\u001B[39;49m\u001B[43my\u001B[49m\u001B[43m]\u001B[49m\n\u001B[1;32m    583\u001B[0m     all_results\u001B[38;5;241m.\u001B[39mappend(results)\n\u001B[1;32m    585\u001B[0m \u001B[38;5;28mself\u001B[39m\u001B[38;5;241m.\u001B[39m_set_new_signals(\u001B[38;5;28;01mNone\u001B[39;00m)\n",
      "File \u001B[0;32m~/Library/Caches/pypoetry/virtualenvs/casq-KTdAezUX-py3.11/lib/python3.11/site-packages/qiskit_dynamics/solvers/solver_classes.py:581\u001B[0m, in \u001B[0;36m<listcomp>\u001B[0;34m(.0)\u001B[0m\n\u001B[1;32m    578\u001B[0m     results\u001B[38;5;241m.\u001B[39my \u001B[38;5;241m=\u001B[39m format_final_states(results\u001B[38;5;241m.\u001B[39my, \u001B[38;5;28mself\u001B[39m\u001B[38;5;241m.\u001B[39mmodel, y0_input, y0_cls)\n\u001B[1;32m    580\u001B[0m     \u001B[38;5;28;01mif\u001B[39;00m y0_cls \u001B[38;5;129;01mis\u001B[39;00m \u001B[38;5;129;01mnot\u001B[39;00m \u001B[38;5;28;01mNone\u001B[39;00m \u001B[38;5;129;01mand\u001B[39;00m convert_results:\n\u001B[0;32m--> 581\u001B[0m         results\u001B[38;5;241m.\u001B[39my \u001B[38;5;241m=\u001B[39m [\u001B[43mstate_type_wrapper\u001B[49m\u001B[43m(\u001B[49m\u001B[43myi\u001B[49m\u001B[43m)\u001B[49m \u001B[38;5;28;01mfor\u001B[39;00m yi \u001B[38;5;129;01min\u001B[39;00m results\u001B[38;5;241m.\u001B[39my]\n\u001B[1;32m    583\u001B[0m     all_results\u001B[38;5;241m.\u001B[39mappend(results)\n\u001B[1;32m    585\u001B[0m \u001B[38;5;28mself\u001B[39m\u001B[38;5;241m.\u001B[39m_set_new_signals(\u001B[38;5;28;01mNone\u001B[39;00m)\n",
      "File \u001B[0;32m~/Library/Caches/pypoetry/virtualenvs/casq-KTdAezUX-py3.11/lib/python3.11/site-packages/qiskit_dynamics/solvers/solver_classes.py:717\u001B[0m, in \u001B[0;36minitial_state_converter.<locals>.<lambda>\u001B[0;34m(x)\u001B[0m\n\u001B[1;32m    715\u001B[0m \u001B[38;5;28;01mif\u001B[39;00m \u001B[38;5;28misinstance\u001B[39m(obj, QuantumState):\n\u001B[1;32m    716\u001B[0m     y0, y0_cls \u001B[38;5;241m=\u001B[39m Array(obj\u001B[38;5;241m.\u001B[39mdata), obj\u001B[38;5;241m.\u001B[39m\u001B[38;5;18m__class__\u001B[39m\n\u001B[0;32m--> 717\u001B[0m     wrapper \u001B[38;5;241m=\u001B[39m \u001B[38;5;28;01mlambda\u001B[39;00m x: y0_cls(np\u001B[38;5;241m.\u001B[39marray(x), dims\u001B[38;5;241m=\u001B[39mobj\u001B[38;5;241m.\u001B[39mdims())\n\u001B[1;32m    718\u001B[0m \u001B[38;5;28;01melif\u001B[39;00m \u001B[38;5;28misinstance\u001B[39m(obj, QuantumChannel):\n\u001B[1;32m    719\u001B[0m     y0, y0_cls \u001B[38;5;241m=\u001B[39m Array(SuperOp(obj)\u001B[38;5;241m.\u001B[39mdata), SuperOp\n",
      "File \u001B[0;32m~/Library/Caches/pypoetry/virtualenvs/casq-KTdAezUX-py3.11/lib/python3.11/site-packages/jax/_src/core.py:575\u001B[0m, in \u001B[0;36mTracer.__array__\u001B[0;34m(self, *args, **kw)\u001B[0m\n\u001B[1;32m    574\u001B[0m \u001B[38;5;28;01mdef\u001B[39;00m \u001B[38;5;21m__array__\u001B[39m(\u001B[38;5;28mself\u001B[39m, \u001B[38;5;241m*\u001B[39margs, \u001B[38;5;241m*\u001B[39m\u001B[38;5;241m*\u001B[39mkw):\n\u001B[0;32m--> 575\u001B[0m   \u001B[38;5;28;01mraise\u001B[39;00m TracerArrayConversionError(\u001B[38;5;28mself\u001B[39m)\n",
      "\u001B[0;31mTracerArrayConversionError\u001B[0m: The numpy.ndarray conversion method __array__() was called on the JAX Tracer object Traced<ShapedArray(complex128[3])>with<JVPTrace(level=3/0)> with\n  primal = Traced<ShapedArray(complex128[3])>with<DynamicJaxprTrace(level=1/0)>\n  tangent = Traced<ShapedArray(complex128[3])>with<JaxprTrace(level=2/0)> with\n    pval = (ShapedArray(complex128[3]), None)\n    recipe = JaxprEqnRecipe(eqn_id=<object object at 0x14b5d1ec0>, in_tracers=(Traced<ShapedArray(complex128[1,3]):JaxprTrace(level=2/0)>,), out_tracer_refs=[<weakref at 0x14ba357b0; to 'JaxprTracer' at 0x14ba35940>], out_avals=[ShapedArray(complex128[3])], primitive=squeeze, params={'dimensions': (0,)}, effects=set(), source_info=SourceInfo(traceback=<jaxlib.xla_extension.Traceback object at 0x14bb28d70>, name_stack=NameStack(stack=(Transform(name='jvp'),))))\nSee https://jax.readthedocs.io/en/latest/errors.html#jax.errors.TracerArrayConversionError"
     ]
    }
   ],
   "source": [
    "%%time\n",
    "jit_grad_obj(initial_params)\n"
   ],
   "metadata": {
    "collapsed": false,
    "ExecuteTime": {
     "end_time": "2023-06-29T19:59:46.392807Z",
     "start_time": "2023-06-29T19:59:44.756091Z"
    }
   }
  },
  {
   "cell_type": "code",
   "execution_count": 9,
   "outputs": [],
   "source": [
    "# %%time\n",
    "# opt_results = minimize(fun=objective, x0=initial_params, jac=False, method=\"Nelder-Mead\")\n",
    "# print(opt_results.message)\n",
    "# print(f\"Optimized Sigma is {opt_results.x[0]} and Width is {opt_results.x[1]}\")\n",
    "# print('Number of function evaluations: ' + str(opt_results.nfev))\n",
    "# print('Function value: ' + str(opt_results.fun))\n"
   ],
   "metadata": {
    "collapsed": false,
    "ExecuteTime": {
     "end_time": "2023-06-29T19:59:46.397675Z",
     "start_time": "2023-06-29T19:59:46.394117Z"
    }
   }
  },
  {
   "cell_type": "code",
   "execution_count": 10,
   "outputs": [
    {
     "name": "stdout",
     "output_type": "stream",
     "text": [
      "Maximum number of function evaluations has been exceeded.\n",
      "Optimized Sigma is 14.062499999999995 and Width is 10.687499999999984\n",
      "Number of function evaluations: 400\n",
      "Function value: 0.0009765625\n",
      "CPU times: user 4min 30s, sys: 14.6 s, total: 4min 45s\n",
      "Wall time: 4min 39s\n"
     ]
    }
   ],
   "source": [
    "%%time\n",
    "opt_results = minimize(fun=objective_jax, x0=initial_params, jac=False, method=\"Nelder-Mead\")\n",
    "num_evaluations = opt_results.nfev\n",
    "sigma_opt = opt_results.x[0]\n",
    "width_opt = opt_results.x[1]\n",
    "opt_value = opt_results.fun\n",
    "print(opt_results.message)\n",
    "print(f\"Optimized Sigma is {sigma_opt} and Width is {width_opt}\")\n",
    "print('Number of function evaluations: ' + str(num_evaluations))\n",
    "print('Function value: ' + str(opt_value))\n"
   ],
   "metadata": {
    "collapsed": false,
    "ExecuteTime": {
     "end_time": "2023-06-29T20:04:26.400785Z",
     "start_time": "2023-06-29T19:59:46.402345Z"
    }
   }
  },
  {
   "cell_type": "code",
   "execution_count": 11,
   "outputs": [
    {
     "data": {
      "text/plain": "<Figure size 1300x165 with 1 Axes>",
      "image/png": "[encoded data removed]"
     },
     "execution_count": 11,
     "metadata": {},
     "output_type": "execute_result"
    }
   ],
   "source": [
    "final_params = np.array([sigma_opt, width_opt])\n",
    "build_gate(final_params).pulse().draw()\n"
   ],
   "metadata": {
    "collapsed": false,
    "ExecuteTime": {
     "end_time": "2023-06-29T20:04:26.499749Z",
     "start_time": "2023-06-29T20:04:26.403166Z"
    }
   }
  },
  {
   "cell_type": "code",
   "execution_count": 12,
   "outputs": [
    {
     "name": "stdout",
     "output_type": "stream",
     "text": [
      "{'0': 8, '1': 1016}\n",
      "CPU times: user 703 ms, sys: 43.7 ms, total: 747 ms\n",
      "Wall time: 677 ms\n"
     ]
    }
   ],
   "source": [
    "%%time\n",
    "result = simulator_jax.run(build_circuit(final_params))\n",
    "print(result.result().results[0].data.counts[1])\n"
   ],
   "metadata": {
    "collapsed": false,
    "ExecuteTime": {
     "end_time": "2023-06-29T20:04:27.181331Z",
     "start_time": "2023-06-29T20:04:26.504577Z"
    }
   }
  },
  {
   "cell_type": "code",
   "execution_count": 12,
   "outputs": [],
   "source": [],
   "metadata": {
    "collapsed": false,
    "ExecuteTime": {
     "end_time": "2023-06-29T20:04:27.184251Z",
     "start_time": "2023-06-29T20:04:27.181693Z"
    }
   }
  }
 ],
 "metadata": {
  "kernelspec": {
   "display_name": "Python 3",
   "language": "python",
   "name": "python3"
  },
  "language_info": {
   "codemirror_mode": {
    "name": "ipython",
    "version": 2
   },
   "file_extension": ".py",
   "mimetype": "text/x-python",
   "name": "python",
   "nbconvert_exporter": "python",
   "pygments_lexer": "ipython2",
   "version": "2.7.6"
  }
 },
 "nbformat": 4,
 "nbformat_minor": 0
}
