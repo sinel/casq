{
 "cells": [
  {
   "cell_type": "code",
   "execution_count": 1,
   "outputs": [],
   "source": [
    "# Imports\n",
    "import jax\n",
    "\n",
    "from qiskit.providers.fake_provider import FakeManila\n",
    "from qiskit_dynamics.array import Array\n",
    "\n",
    "from casq import PulseCircuit, PulseSimulator\n",
    "from casq.gates import GaussianPulseGate\n"
   ],
   "metadata": {
    "collapsed": false,
    "ExecuteTime": {
     "end_time": "2023-06-20T10:36:16.775327Z",
     "start_time": "2023-06-20T10:36:14.703860Z"
    }
   }
  },
  {
   "cell_type": "code",
   "execution_count": 2,
   "outputs": [],
   "source": [
    "# Configure to use JAX internally\n",
    "jax.config.update(\"jax_enable_x64\", True)\n",
    "jax.config.update(\"jax_platform_name\", \"cpu\")\n",
    "Array.set_default_backend(\"jax\")\n"
   ],
   "metadata": {
    "collapsed": false,
    "ExecuteTime": {
     "end_time": "2023-06-20T10:36:16.778770Z",
     "start_time": "2023-06-20T10:36:16.776976Z"
    }
   }
  },
  {
   "cell_type": "code",
   "execution_count": 3,
   "outputs": [
    {
     "data": {
      "text/plain": "<Figure size 436.286x200.667 with 1 Axes>",
      "image/png": "[encoded data removed]"
     },
     "execution_count": 3,
     "metadata": {},
     "output_type": "execute_result"
    }
   ],
   "source": [
    "# Create simple circuit with Gaussian pulse as X gate\n",
    "duration = 256\n",
    "amplitude = 0.2\n",
    "sigma = 50\n",
    "x_pulse = GaussianPulseGate(duration, amplitude, sigma, name=\"x-pulse\")\n",
    "circuit = PulseCircuit(1, 1)\n",
    "circuit.pulse(x_pulse, 0)\n",
    "circuit.measure([0], [0])\n",
    "circuit.draw(\"mpl\")\n"
   ],
   "metadata": {
    "collapsed": false,
    "ExecuteTime": {
     "end_time": "2023-06-20T10:36:17.012044Z",
     "start_time": "2023-06-20T10:36:16.779579Z"
    }
   }
  },
  {
   "cell_type": "code",
   "execution_count": 4,
   "outputs": [],
   "source": [
    "# Create dynamics backend for IBMQ Almaden\n",
    "backend = FakeManila()\n",
    "dt = backend.configuration().dt\n",
    "solver_options = {\"method\": \"jax_odeint\", \"atol\": 1e-6, \"rtol\": 1e-8, \"hmax\": dt}\n",
    "simulator = PulseSimulator.from_backend(backend, [0, 1], solver_options=solver_options)\n",
    "# simulator = PulseSimulator.from_backend(backend, [0, 1])\n"
   ],
   "metadata": {
    "collapsed": false,
    "ExecuteTime": {
     "end_time": "2023-06-20T10:36:17.502035Z",
     "start_time": "2023-06-20T10:36:17.014219Z"
    }
   }
  },
  {
   "cell_type": "code",
   "execution_count": 5,
   "outputs": [
    {
     "name": "stderr",
     "output_type": "stream",
     "text": [
      "\u001B[32m2023-06-20 13:36:17.527\u001B[0m | \u001B[34m\u001B[1mDEBUG   \u001B[0m | \u001B[36mcasq.pulse_simulator\u001B[0m:\u001B[36mrun\u001B[0m:\u001B[36m133\u001B[0m - \u001B[34m\u001B[1mComputed time interval to solve over is [[0.0, 5.6888888888888887e-08]].\u001B[0m\n",
      "\u001B[32m2023-06-20 13:36:18.864\u001B[0m | \u001B[34m\u001B[1mDEBUG   \u001B[0m | \u001B[36mcasq.pulse_simulator\u001B[0m:\u001B[36m_run\u001B[0m:\u001B[36m218\u001B[0m - \u001B[34m\u001B[1m1\u001B[0m\n",
      "\u001B[32m2023-06-20 13:36:18.865\u001B[0m | \u001B[34m\u001B[1mDEBUG   \u001B[0m | \u001B[36mcasq.pulse_simulator\u001B[0m:\u001B[36m_run\u001B[0m:\u001B[36m219\u001B[0m - \u001B[34m\u001B[1mExperimentResult(shots=100, success=True, meas_level=1, data=ExperimentResultData(memory=[[0.34984577 0.34490865]]), header=QobjHeader(name='innatePulseCircuit', metadata={}), seed=2674059703666886342)\u001B[0m\n",
      "\u001B[32m2023-06-20 13:36:18.865\u001B[0m | \u001B[34m\u001B[1mDEBUG   \u001B[0m | \u001B[36mcasq.common.decorators\u001B[0m:\u001B[36mwrapped\u001B[0m:\u001B[36m62\u001B[0m - \u001B[34m\u001B[1mExecuted [run] in 1.364 seconds.\u001B[0m\n"
     ]
    }
   ],
   "source": [
    "result = simulator.run(circuit, steps=10, shots=100).result()\n"
   ],
   "metadata": {
    "collapsed": false,
    "ExecuteTime": {
     "end_time": "2023-06-20T10:36:18.868891Z",
     "start_time": "2023-06-20T10:36:17.505494Z"
    }
   }
  },
  {
   "cell_type": "code",
   "execution_count": 6,
   "outputs": [
    {
     "name": "stdout",
     "output_type": "stream",
     "text": [
      "Result(backend_name='DynamicsBackend', backend_version='0.1', qobj_id='', job_id='aea0d3bb-2ba6-4aa9-9758-6763d3138bd8', success=True, results=[ExperimentResult(shots=100, success=True, meas_level=1, data=ExperimentResultData(memory=[[0.34984577 0.34490865]]), header=QobjHeader(name='innatePulseCircuit', metadata={}), seed=2674059703666886342)], date=2023-06-20T13:36:18.865554, status=None, header=None)\n"
     ]
    }
   ],
   "source": [
    "print(result)\n"
   ],
   "metadata": {
    "collapsed": false,
    "ExecuteTime": {
     "end_time": "2023-06-20T10:36:18.872436Z",
     "start_time": "2023-06-20T10:36:18.869343Z"
    }
   }
  },
  {
   "cell_type": "code",
   "execution_count": 7,
   "outputs": [
    {
     "ename": "QiskitError",
     "evalue": "'No counts for experiment \"0\"'",
     "output_type": "error",
     "traceback": [
      "\u001B[0;31m---------------------------------------------------------------------------\u001B[0m",
      "\u001B[0;31mQiskitError\u001B[0m                               Traceback (most recent call last)",
      "Cell \u001B[0;32mIn[7], line 1\u001B[0m\n\u001B[0;32m----> 1\u001B[0m \u001B[43mresult\u001B[49m\u001B[38;5;241;43m.\u001B[39;49m\u001B[43mget_counts\u001B[49m\u001B[43m(\u001B[49m\u001B[38;5;241;43m0\u001B[39;49m\u001B[43m)\u001B[49m\n",
      "File \u001B[0;32m~/Library/Caches/pypoetry/virtualenvs/casq-KTdAezUX-py3.11/lib/python3.11/site-packages/qiskit/result/result.py:289\u001B[0m, in \u001B[0;36mResult.get_counts\u001B[0;34m(self, experiment)\u001B[0m\n\u001B[1;32m    287\u001B[0m         dict_list\u001B[38;5;241m.\u001B[39mappend(statevector\u001B[38;5;241m.\u001B[39mStatevector(vec)\u001B[38;5;241m.\u001B[39mprobabilities_dict(decimals\u001B[38;5;241m=\u001B[39m\u001B[38;5;241m15\u001B[39m))\n\u001B[1;32m    288\u001B[0m     \u001B[38;5;28;01melse\u001B[39;00m:\n\u001B[0;32m--> 289\u001B[0m         \u001B[38;5;28;01mraise\u001B[39;00m QiskitError(\u001B[38;5;124mf\u001B[39m\u001B[38;5;124m'\u001B[39m\u001B[38;5;124mNo counts for experiment \u001B[39m\u001B[38;5;124m\"\u001B[39m\u001B[38;5;132;01m{\u001B[39;00m\u001B[38;5;28mrepr\u001B[39m(key)\u001B[38;5;132;01m}\u001B[39;00m\u001B[38;5;124m\"\u001B[39m\u001B[38;5;124m'\u001B[39m)\n\u001B[1;32m    291\u001B[0m \u001B[38;5;66;03m# Return first item of dict_list if size is 1\u001B[39;00m\n\u001B[1;32m    292\u001B[0m \u001B[38;5;28;01mif\u001B[39;00m \u001B[38;5;28mlen\u001B[39m(dict_list) \u001B[38;5;241m==\u001B[39m \u001B[38;5;241m1\u001B[39m:\n",
      "\u001B[0;31mQiskitError\u001B[0m: 'No counts for experiment \"0\"'"
     ]
    }
   ],
   "source": [
    "result.get_counts(0)\n"
   ],
   "metadata": {
    "collapsed": false,
    "ExecuteTime": {
     "end_time": "2023-06-20T10:36:19.372607Z",
     "start_time": "2023-06-20T10:36:18.873201Z"
    }
   }
  },
  {
   "cell_type": "code",
   "execution_count": null,
   "outputs": [],
   "source": [
    "from qiskit import schedule as build_schedule\n",
    "solution = simulator.solver.solve(\n",
    "    t_span=[[0.0, 5.6888888888888887e-08]],\n",
    "    y0=simulator.ground_state,\n",
    "    signals=[build_schedule(circuit, simulator, dt=simulator.solver._dt)],\n",
    "    t_eval=[0.00000000e+00, 6.32098765e-09, 1.26419753e-08, 1.89629630e-08, 2.52839506e-08, 3.16049383e-08, 3.79259259e-08, 4.42469136e-08, 5.05679012e-08, 5.6888888888888887e-08],\n",
    "    method=\"jax_odeint\", atol=1e-6, rtol=1e-8, hmax=simulator.solver._dt\n",
    ")\n"
   ],
   "metadata": {
    "collapsed": false
   }
  },
  {
   "cell_type": "code",
   "execution_count": null,
   "outputs": [],
   "source": [
    "print(solution)\n"
   ],
   "metadata": {
    "collapsed": false
   }
  },
  {
   "cell_type": "code",
   "execution_count": null,
   "outputs": [],
   "source": [],
   "metadata": {
    "collapsed": false
   }
  }
 ],
 "metadata": {
  "kernelspec": {
   "display_name": "Python 3",
   "language": "python",
   "name": "python3"
  },
  "language_info": {
   "codemirror_mode": {
    "name": "ipython",
    "version": 2
   },
   "file_extension": ".py",
   "mimetype": "text/x-python",
   "name": "python",
   "nbconvert_exporter": "python",
   "pygments_lexer": "ipython2",
   "version": "2.7.6"
  }
 },
 "nbformat": 4,
 "nbformat_minor": 0
}
