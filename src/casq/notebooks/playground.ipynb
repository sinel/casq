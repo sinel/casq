{
 "cells": [
  {
   "cell_type": "code",
   "execution_count": 1,
   "outputs": [],
   "source": [
    "# Configure to use JAX internally\n",
    "# import jax\n",
    "# jax.config.update(\"jax_enable_x64\", True)\n",
    "# jax.config.update(\"jax_platform_name\", \"cpu\")\n",
    "# from qiskit_dynamics.array import Array\n",
    "# Array.set_default_backend(\"numpy\")\n",
    "#\n",
    "# Array.default_backend()"
   ],
   "metadata": {
    "collapsed": false,
    "ExecuteTime": {
     "end_time": "2023-06-13T13:32:33.193157Z",
     "start_time": "2023-06-13T13:32:33.190814Z"
    }
   }
  },
  {
   "cell_type": "code",
   "execution_count": 2,
   "outputs": [],
   "source": [
    "import pprint\n",
    "from time import time\n",
    "\n",
    "from IPython.display import display, Markdown\n",
    "import numpy as np\n",
    "\n",
    "from qiskit import pulse\n",
    "from qiskit.providers.fake_provider import FakeManila\n",
    "from qiskit_dynamics import DynamicsBackend\n",
    "from qiskit_experiments.framework import BackendData"
   ],
   "metadata": {
    "collapsed": false,
    "ExecuteTime": {
     "end_time": "2023-06-13T13:32:35.675429Z",
     "start_time": "2023-06-13T13:32:33.197221Z"
    }
   }
  },
  {
   "cell_type": "code",
   "execution_count": 3,
   "outputs": [
    {
     "name": "stdout",
     "output_type": "stream",
     "text": [
      "================================================================================\n",
      "FAKE MANILA\n",
      "================================================================================\n",
      "Number of qubits: 5\n",
      "Input signal timestep: 0.222 ns\n",
      "Granularity: 1.000\n",
      "Acquire alignment: 1.000\n",
      "Pulse alignment: 1.000\n",
      "Least common multiple of acquire_alignment and pulse_alignment: 1\n",
      "Resonant frequency for qubit 0: 4.963 GHz\n",
      "T1 time for qubit 0: 109.187 microseconds\n",
      "T2 time for qubit 0: 5.077 microseconds\n",
      "U2 gate error for qubit 0: 0.003866\n",
      "U2 gate duration for qubit 0: 35.556 nanoseconds\n",
      "================================================================================\n"
     ]
    },
    {
     "data": {
      "text/plain": "<IPython.core.display.Markdown object>",
      "text/markdown": "Qubits are modeled as Duffing oscillators. In this case, the system includes higher energy states, i.e. not just |0> and |1>. The Pauli operators are generalized via the following set of transformations:\n\n$(\\mathbb{I}-\\sigma_{i}^z)/2 \\rightarrow O_i \\equiv b^\\dagger_{i} b_{i}$,\n\n$\\sigma_{+} \\rightarrow b^\\dagger$,\n\n$\\sigma_{-} \\rightarrow b$,\n\n$\\sigma_{i}^X \\rightarrow b^\\dagger_{i} + b_{i}$.\n\nQubits are coupled through resonator buses. The provided Hamiltonian has been projected into the zero excitation subspace of the resonator buses leading to an effective qubit-qubit flip-flop interaction. The qubit resonance frequencies in the Hamiltonian are the cavity dressed frequencies and not exactly what is returned by the backend defaults, which also includes the dressing due to the qubit-qubit interactions.\n\nQuantities are returned in angular frequencies, with units 2*pi*GHz.\n\nWARNING: Currently not all system Hamiltonian information is available to the public, missing values have been replaced with 0.\n"
     },
     "metadata": {},
     "output_type": "display_data"
    },
    {
     "data": {
      "text/plain": "<IPython.core.display.Markdown object>",
      "text/markdown": "$$\\begin{align} \\mathcal{H}/\\hbar = & \\sum_{i=0}^{4}\\left(\\frac{\\omega_{q,i}}{2}(\\mathbb{I}-\\sigma_i^{z})+\\frac{\\Delta_{i}}{2}(O_i^2-O_i)+\\Omega_{d,i}D_i(t)\\sigma_i^{X}\\right) \\\\ & + J_{0,1}(\\sigma_{0}^{+}\\sigma_{1}^{-}+\\sigma_{0}^{-}\\sigma_{1}^{+}) + J_{1,2}(\\sigma_{1}^{+}\\sigma_{2}^{-}+\\sigma_{1}^{-}\\sigma_{2}^{+}) + J_{2,3}(\\sigma_{2}^{+}\\sigma_{3}^{-}+\\sigma_{2}^{-}\\sigma_{3}^{+}) + J_{3,4}(\\sigma_{3}^{+}\\sigma_{4}^{-}+\\sigma_{3}^{-}\\sigma_{4}^{+}) \\\\ & + \\Omega_{d,0}(U_{0}^{(0,1)}(t))\\sigma_{0}^{X} + \\Omega_{d,1}(U_{1}^{(1,0)}(t)+U_{2}^{(1,2)}(t))\\sigma_{1}^{X} \\\\ & + \\Omega_{d,2}(U_{3}^{(2,1)}(t)+U_{4}^{(2,3)}(t))\\sigma_{2}^{X} + \\Omega_{d,3}(U_{6}^{(3,4)}(t)+U_{5}^{(3,2)}(t))\\sigma_{3}^{X} \\\\ & + \\Omega_{d,4}(U_{7}^{(4,3)}(t))\\sigma_{4}^{X} \\\\ \\end{align}$$"
     },
     "metadata": {},
     "output_type": "display_data"
    },
    {
     "name": "stdout",
     "output_type": "stream",
     "text": [
      "================================================================================\n"
     ]
    }
   ],
   "source": [
    "fake_backend = FakeManila()\n",
    "config = fake_backend.configuration()\n",
    "props = fake_backend.properties()\n",
    "data = BackendData(fake_backend)\n",
    "\n",
    "print(\n",
    "    \"================================================================================\"\n",
    ")\n",
    "print(\"FAKE MANILA\")\n",
    "print(\n",
    "    \"================================================================================\"\n",
    ")\n",
    "print(f\"Number of qubits: {config.n_qubits:.0f}\")\n",
    "print(f\"Input signal timestep: {config.dt*1e9:.3f} ns\")\n",
    "print(f\"Granularity: {data.granularity:.3f}\")\n",
    "print(f\"Acquire alignment: {data.acquire_alignment:.3f}\")\n",
    "print(f\"Pulse alignment: {data.pulse_alignment:.3f}\")\n",
    "lcm = np.lcm(data.acquire_alignment, data.pulse_alignment)\n",
    "print(f\"Least common multiple of acquire_alignment and pulse_alignment: {lcm}\")\n",
    "print(f\"Resonant frequency for qubit 0: {props.frequency(0)*1e-9:.3f} GHz\")\n",
    "print(f\"T1 time for qubit 0: {props.t1(0)*1e6:.3f} microseconds\")\n",
    "print(f\"T2 time for qubit 0: {props.t2(0)*1e6:.3f} microseconds\")\n",
    "print(f\"U2 gate error for qubit 0: {props.gate_error('sx', 0):.6f}\")\n",
    "print(f\"U2 gate duration for qubit 0: {props.gate_length('sx', 0)*1e9:.3f} nanoseconds\")\n",
    "print(\n",
    "    \"================================================================================\"\n",
    ")\n",
    "display(Markdown(rf\"\"\"{config.hamiltonian[\"description\"]}\"\"\"))\n",
    "display(Markdown(rf\"\"\"$${config.hamiltonian[\"h_latex\"]}$$\"\"\"))\n",
    "print(\n",
    "    \"================================================================================\"\n",
    ")"
   ],
   "metadata": {
    "collapsed": false,
    "ExecuteTime": {
     "end_time": "2023-06-13T13:32:35.752135Z",
     "start_time": "2023-06-13T13:32:35.678567Z"
    }
   }
  },
  {
   "cell_type": "code",
   "execution_count": 14,
   "outputs": [
    {
     "ename": "ValueError",
     "evalue": "setting an array element with a sequence.",
     "output_type": "error",
     "traceback": [
      "\u001B[0;31m---------------------------------------------------------------------------\u001B[0m",
      "\u001B[0;31mTypeError\u001B[0m                                 Traceback (most recent call last)",
      "File \u001B[0;32m~/Library/Caches/pypoetry/virtualenvs/casq-KTdAezUX-py3.11/lib/python3.11/site-packages/qiskit_dynamics/array/array.py:212\u001B[0m, in \u001B[0;36mArray.__float__\u001B[0;34m(self)\u001B[0m\n\u001B[1;32m    211\u001B[0m     \u001B[38;5;28;01mraise\u001B[39;00m \u001B[38;5;167;01mTypeError\u001B[39;00m(\u001B[38;5;124m\"\u001B[39m\u001B[38;5;124monly size-1 Arrays can be converted to Python scalars.\u001B[39m\u001B[38;5;124m\"\u001B[39m)\n\u001B[0;32m--> 212\u001B[0m \u001B[38;5;28;01mreturn\u001B[39;00m \u001B[38;5;28;43mfloat\u001B[39;49m\u001B[43m(\u001B[49m\u001B[38;5;28;43mself\u001B[39;49m\u001B[38;5;241;43m.\u001B[39;49m\u001B[43m_data\u001B[49m\u001B[43m)\u001B[49m\n",
      "\u001B[0;31mTypeError\u001B[0m: float() argument must be a string or a real number, not 'complex'",
      "\nThe above exception was the direct cause of the following exception:\n",
      "\u001B[0;31mValueError\u001B[0m                                Traceback (most recent call last)",
      "Cell \u001B[0;32mIn[14], line 2\u001B[0m\n\u001B[1;32m      1\u001B[0m cutoff \u001B[38;5;241m=\u001B[39m np\u001B[38;5;241m.\u001B[39mreal(\u001B[38;5;241m1.5\u001B[39m \u001B[38;5;241m*\u001B[39m props\u001B[38;5;241m.\u001B[39mfrequency(\u001B[38;5;241m0\u001B[39m))\n\u001B[0;32m----> 2\u001B[0m dynamic_backend \u001B[38;5;241m=\u001B[39m \u001B[43mDynamicsBackend\u001B[49m\u001B[38;5;241;43m.\u001B[39;49m\u001B[43mfrom_backend\u001B[49m\u001B[43m(\u001B[49m\n\u001B[1;32m      3\u001B[0m \u001B[43m    \u001B[49m\u001B[43mbackend\u001B[49m\u001B[38;5;241;43m=\u001B[39;49m\u001B[43mfake_backend\u001B[49m\u001B[43m,\u001B[49m\n\u001B[1;32m      4\u001B[0m \u001B[43m    \u001B[49m\u001B[43msubsystem_list\u001B[49m\u001B[38;5;241;43m=\u001B[39;49m\u001B[43m[\u001B[49m\u001B[38;5;241;43m0\u001B[39;49m\u001B[43m]\u001B[49m\u001B[43m,\u001B[49m\n\u001B[1;32m      5\u001B[0m \u001B[43m    \u001B[49m\u001B[38;5;66;43;03m# evaluation_mode=\"sparse\",\u001B[39;49;00m\n\u001B[1;32m      6\u001B[0m \u001B[43m    \u001B[49m\u001B[43mrwa_cutoff_freq\u001B[49m\u001B[38;5;241;43m=\u001B[39;49m\u001B[43mcutoff\u001B[49m\u001B[43m,\u001B[49m\n\u001B[1;32m      7\u001B[0m \u001B[43m)\u001B[49m\n",
      "File \u001B[0;32m~/Library/Caches/pypoetry/virtualenvs/casq-KTdAezUX-py3.11/lib/python3.11/site-packages/qiskit_dynamics/backend/dynamics_backend.py:725\u001B[0m, in \u001B[0;36mDynamicsBackend.from_backend\u001B[0;34m(cls, backend, subsystem_list, rotating_frame, evaluation_mode, rwa_cutoff_freq, **options)\u001B[0m\n\u001B[1;32m    721\u001B[0m \u001B[38;5;28;01melse\u001B[39;00m:\n\u001B[1;32m    722\u001B[0m     \u001B[38;5;66;03m# config is guaranteed to have a dt\u001B[39;00m\n\u001B[1;32m    723\u001B[0m     dt \u001B[38;5;241m=\u001B[39m backend_config\u001B[38;5;241m.\u001B[39mdt\n\u001B[0;32m--> 725\u001B[0m solver \u001B[38;5;241m=\u001B[39m \u001B[43mSolver\u001B[49m\u001B[43m(\u001B[49m\n\u001B[1;32m    726\u001B[0m \u001B[43m    \u001B[49m\u001B[43mstatic_hamiltonian\u001B[49m\u001B[38;5;241;43m=\u001B[39;49m\u001B[43mstatic_hamiltonian\u001B[49m\u001B[43m,\u001B[49m\n\u001B[1;32m    727\u001B[0m \u001B[43m    \u001B[49m\u001B[43mhamiltonian_operators\u001B[49m\u001B[38;5;241;43m=\u001B[39;49m\u001B[43mhamiltonian_operators\u001B[49m\u001B[43m,\u001B[49m\n\u001B[1;32m    728\u001B[0m \u001B[43m    \u001B[49m\u001B[43mhamiltonian_channels\u001B[49m\u001B[38;5;241;43m=\u001B[39;49m\u001B[43mhamiltonian_channels\u001B[49m\u001B[43m,\u001B[49m\n\u001B[1;32m    729\u001B[0m \u001B[43m    \u001B[49m\u001B[43mchannel_carrier_freqs\u001B[49m\u001B[38;5;241;43m=\u001B[39;49m\u001B[43mchannel_freqs\u001B[49m\u001B[43m,\u001B[49m\n\u001B[1;32m    730\u001B[0m \u001B[43m    \u001B[49m\u001B[43mdt\u001B[49m\u001B[38;5;241;43m=\u001B[39;49m\u001B[43mdt\u001B[49m\u001B[43m,\u001B[49m\n\u001B[1;32m    731\u001B[0m \u001B[43m    \u001B[49m\u001B[43mrotating_frame\u001B[49m\u001B[38;5;241;43m=\u001B[39;49m\u001B[43mrotating_frame\u001B[49m\u001B[43m,\u001B[49m\n\u001B[1;32m    732\u001B[0m \u001B[43m    \u001B[49m\u001B[43mevaluation_mode\u001B[49m\u001B[38;5;241;43m=\u001B[39;49m\u001B[43mevaluation_mode\u001B[49m\u001B[43m,\u001B[49m\n\u001B[1;32m    733\u001B[0m \u001B[43m    \u001B[49m\u001B[43mrwa_cutoff_freq\u001B[49m\u001B[38;5;241;43m=\u001B[39;49m\u001B[43mrwa_cutoff_freq\u001B[49m\u001B[43m,\u001B[49m\n\u001B[1;32m    734\u001B[0m \u001B[43m\u001B[49m\u001B[43m)\u001B[49m\n\u001B[1;32m    736\u001B[0m \u001B[38;5;28;01mreturn\u001B[39;00m \u001B[38;5;28mcls\u001B[39m(\n\u001B[1;32m    737\u001B[0m     solver\u001B[38;5;241m=\u001B[39msolver,\n\u001B[1;32m    738\u001B[0m     target\u001B[38;5;241m=\u001B[39mTarget(dt\u001B[38;5;241m=\u001B[39mdt),\n\u001B[0;32m   (...)\u001B[0m\n\u001B[1;32m    741\u001B[0m     \u001B[38;5;241m*\u001B[39m\u001B[38;5;241m*\u001B[39moptions,\n\u001B[1;32m    742\u001B[0m )\n",
      "File \u001B[0;32m~/Library/Caches/pypoetry/virtualenvs/casq-KTdAezUX-py3.11/lib/python3.11/site-packages/qiskit_dynamics/solvers/solver_classes.py:373\u001B[0m, in \u001B[0;36mSolver.__init__\u001B[0;34m(self, static_hamiltonian, hamiltonian_operators, static_dissipators, dissipator_operators, hamiltonian_channels, dissipator_channels, channel_carrier_freqs, dt, rotating_frame, in_frame_basis, evaluation_mode, rwa_cutoff_freq, rwa_carrier_freqs, validate)\u001B[0m\n\u001B[1;32m    369\u001B[0m         rwa_sigs \u001B[38;5;241m=\u001B[39m (rwa_sigs, \u001B[38;5;28;01mNone\u001B[39;00m)\n\u001B[1;32m    371\u001B[0m     \u001B[38;5;28mself\u001B[39m\u001B[38;5;241m.\u001B[39m_model\u001B[38;5;241m.\u001B[39msignals \u001B[38;5;241m=\u001B[39m rwa_sigs\n\u001B[0;32m--> 373\u001B[0m \u001B[38;5;28mself\u001B[39m\u001B[38;5;241m.\u001B[39m_model, rwa_signal_map \u001B[38;5;241m=\u001B[39m \u001B[43mrotating_wave_approximation\u001B[49m\u001B[43m(\u001B[49m\n\u001B[1;32m    374\u001B[0m \u001B[43m    \u001B[49m\u001B[38;5;28;43mself\u001B[39;49m\u001B[38;5;241;43m.\u001B[39;49m\u001B[43m_model\u001B[49m\u001B[43m,\u001B[49m\u001B[43m \u001B[49m\u001B[43mrwa_cutoff_freq\u001B[49m\u001B[43m,\u001B[49m\u001B[43m \u001B[49m\u001B[43mreturn_signal_map\u001B[49m\u001B[38;5;241;43m=\u001B[39;49m\u001B[38;5;28;43;01mTrue\u001B[39;49;00m\n\u001B[1;32m    375\u001B[0m \u001B[43m\u001B[49m\u001B[43m)\u001B[49m\n\u001B[1;32m    376\u001B[0m \u001B[38;5;28mself\u001B[39m\u001B[38;5;241m.\u001B[39m_rwa_signal_map \u001B[38;5;241m=\u001B[39m rwa_signal_map\n\u001B[1;32m    378\u001B[0m \u001B[38;5;66;03m# clear signals\u001B[39;00m\n",
      "File \u001B[0;32m~/Library/Caches/pypoetry/virtualenvs/casq-KTdAezUX-py3.11/lib/python3.11/site-packages/qiskit_dynamics/models/rotating_wave_approximation.py:158\u001B[0m, in \u001B[0;36mrotating_wave_approximation\u001B[0;34m(model, cutoff_freq, return_signal_map)\u001B[0m\n\u001B[1;32m    155\u001B[0m \u001B[38;5;28;01melse\u001B[39;00m:\n\u001B[1;32m    156\u001B[0m     rwa_drift \u001B[38;5;241m=\u001B[39m \u001B[38;5;28;01mNone\u001B[39;00m\n\u001B[0;32m--> 158\u001B[0m rwa_operators \u001B[38;5;241m=\u001B[39m \u001B[43mget_rwa_operators\u001B[49m\u001B[43m(\u001B[49m\n\u001B[1;32m    159\u001B[0m \u001B[43m    \u001B[49m\u001B[43mto_array\u001B[49m\u001B[43m(\u001B[49m\u001B[43mmodel\u001B[49m\u001B[38;5;241;43m.\u001B[39;49m\u001B[43m_get_operators\u001B[49m\u001B[43m(\u001B[49m\u001B[38;5;28;43;01mTrue\u001B[39;49;00m\u001B[43m)\u001B[49m\u001B[43m)\u001B[49m\u001B[43m,\u001B[49m\n\u001B[1;32m    160\u001B[0m \u001B[43m    \u001B[49m\u001B[43mmodel\u001B[49m\u001B[38;5;241;43m.\u001B[39;49m\u001B[43msignals\u001B[49m\u001B[43m,\u001B[49m\n\u001B[1;32m    161\u001B[0m \u001B[43m    \u001B[49m\u001B[43mmodel\u001B[49m\u001B[38;5;241;43m.\u001B[39;49m\u001B[43mrotating_frame\u001B[49m\u001B[43m,\u001B[49m\n\u001B[1;32m    162\u001B[0m \u001B[43m    \u001B[49m\u001B[43mframe_freqs\u001B[49m\u001B[43m,\u001B[49m\n\u001B[1;32m    163\u001B[0m \u001B[43m    \u001B[49m\u001B[43mcutoff_freq\u001B[49m\u001B[43m,\u001B[49m\n\u001B[1;32m    164\u001B[0m \u001B[43m\u001B[49m\u001B[43m)\u001B[49m\n\u001B[1;32m    165\u001B[0m rwa_signals \u001B[38;5;241m=\u001B[39m get_rwa_signals(model\u001B[38;5;241m.\u001B[39msignals)\n\u001B[1;32m    167\u001B[0m \u001B[38;5;66;03m# works for both GeneratorModel and HamiltonianModel\u001B[39;00m\n",
      "File \u001B[0;32m~/Library/Caches/pypoetry/virtualenvs/casq-KTdAezUX-py3.11/lib/python3.11/site-packages/qiskit_dynamics/models/rotating_wave_approximation.py:269\u001B[0m, in \u001B[0;36mget_rwa_operators\u001B[0;34m(current_ops, current_sigs, rotating_frame, frame_freqs, cutoff_freq)\u001B[0m\n\u001B[1;32m    267\u001B[0m \u001B[38;5;28;01mfor\u001B[39;00m i, sig_sum \u001B[38;5;129;01min\u001B[39;00m \u001B[38;5;28menumerate\u001B[39m(current_sigs\u001B[38;5;241m.\u001B[39mcomponents):\n\u001B[1;32m    268\u001B[0m     sig \u001B[38;5;241m=\u001B[39m sig_sum\u001B[38;5;241m.\u001B[39mcomponents[\u001B[38;5;241m0\u001B[39m]\n\u001B[0;32m--> 269\u001B[0m     \u001B[43mcarrier_freqs\u001B[49m\u001B[43m[\u001B[49m\u001B[43mi\u001B[49m\u001B[43m]\u001B[49m \u001B[38;5;241m=\u001B[39m sig\u001B[38;5;241m.\u001B[39mcarrier_freq\n\u001B[1;32m    271\u001B[0m num_components \u001B[38;5;241m=\u001B[39m \u001B[38;5;28mlen\u001B[39m(carrier_freqs)\n\u001B[1;32m    272\u001B[0m n \u001B[38;5;241m=\u001B[39m current_ops[\u001B[38;5;241m0\u001B[39m]\u001B[38;5;241m.\u001B[39mshape[\u001B[38;5;241m-\u001B[39m\u001B[38;5;241m1\u001B[39m]\n",
      "\u001B[0;31mValueError\u001B[0m: setting an array element with a sequence."
     ]
    }
   ],
   "source": [
    "cutoff = 1.5 * props.frequency(0)\n",
    "dynamic_backend = DynamicsBackend.from_backend(\n",
    "    backend=fake_backend,\n",
    "    subsystem_list=[0],\n",
    "    # evaluation_mode=\"sparse\",\n",
    "    rwa_cutoff_freq=cutoff,\n",
    ")"
   ],
   "metadata": {
    "collapsed": false,
    "ExecuteTime": {
     "end_time": "2023-06-13T14:02:03.261634Z",
     "start_time": "2023-06-13T14:02:03.199366Z"
    }
   }
  },
  {
   "cell_type": "code",
   "execution_count": 11,
   "outputs": [
    {
     "name": "stdout",
     "output_type": "stream",
     "text": [
      "Executed dynamic backend in 48.795 seconds.\n"
     ]
    }
   ],
   "source": [
    "sigma = 128\n",
    "num_samples = 256\n",
    "\n",
    "schedules = []\n",
    "\n",
    "for amp in np.linspace(0.0, 1.0, 10):\n",
    "    gauss = pulse.library.Gaussian(num_samples, amp, sigma, name=\"Parametric Gauss\")\n",
    "\n",
    "    with pulse.build() as schedule:\n",
    "        with pulse.align_sequential():\n",
    "            pulse.play(gauss, pulse.DriveChannel(0))\n",
    "            pulse.shift_phase(0.5, pulse.DriveChannel(0))\n",
    "            pulse.shift_frequency(0.1, pulse.DriveChannel(0))\n",
    "            pulse.play(gauss, pulse.DriveChannel(0))\n",
    "            pulse.acquire(duration=1, qubit_or_channel=0, register=pulse.MemorySlot(0))\n",
    "\n",
    "    schedules.append(schedule)\n",
    "\n",
    "start = time()\n",
    "job = dynamic_backend.run(schedules, shots=100)\n",
    "result = job.result()\n",
    "end = time()\n",
    "print(f\"Executed dynamic backend in {end - start:.3f} seconds.\")"
   ],
   "metadata": {
    "collapsed": false,
    "ExecuteTime": {
     "end_time": "2023-06-13T13:36:40.126393Z",
     "start_time": "2023-06-13T13:35:51.330454Z"
    }
   }
  },
  {
   "cell_type": "code",
   "execution_count": 6,
   "outputs": [
    {
     "data": {
      "text/plain": "<Figure size 1300x165 with 1 Axes>",
      "image/png": "[encoded data removed]"
     },
     "execution_count": 6,
     "metadata": {},
     "output_type": "execute_result"
    }
   ],
   "source": [
    "schedules[3].draw()"
   ],
   "metadata": {
    "collapsed": false,
    "ExecuteTime": {
     "end_time": "2023-06-13T13:33:25.934913Z",
     "start_time": "2023-06-13T13:33:25.694059Z"
    }
   }
  },
  {
   "cell_type": "code",
   "execution_count": 7,
   "outputs": [
    {
     "data": {
      "text/plain": "{'0': 31, '1': 69}"
     },
     "execution_count": 7,
     "metadata": {},
     "output_type": "execute_result"
    }
   ],
   "source": [
    "result.get_counts(3)"
   ],
   "metadata": {
    "collapsed": false,
    "ExecuteTime": {
     "end_time": "2023-06-13T13:33:25.937895Z",
     "start_time": "2023-06-13T13:33:25.934704Z"
    }
   }
  }
 ],
 "metadata": {
  "kernelspec": {
   "display_name": "Python 3",
   "language": "python",
   "name": "python3"
  },
  "language_info": {
   "codemirror_mode": {
    "name": "ipython",
    "version": 2
   },
   "file_extension": ".py",
   "mimetype": "text/x-python",
   "name": "python",
   "nbconvert_exporter": "python",
   "pygments_lexer": "ipython2",
   "version": "2.7.6"
  }
 },
 "nbformat": 4,
 "nbformat_minor": 0
}
