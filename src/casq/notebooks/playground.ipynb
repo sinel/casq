{
 "cells": [
  {
   "cell_type": "code",
   "execution_count": 1,
   "outputs": [],
   "source": [
    "import pprint\n",
    "\n",
    "from qiskit.providers.fake_provider import FakeManila\n",
    "\n",
    "from casq.casq_simulator import CasqSimulator\n",
    "from casq.gates.drag_pulse_gate import DragPulseGate\n",
    "from casq.gates.gaussian_pulse_gate import GaussianPulseGate\n"
   ],
   "metadata": {
    "collapsed": false,
    "ExecuteTime": {
     "end_time": "2023-06-15T10:35:24.024756Z",
     "start_time": "2023-06-15T10:35:21.697370Z"
    }
   }
  },
  {
   "cell_type": "code",
   "execution_count": 19,
   "outputs": [],
   "source": [
    "qubit = 0\n",
    "duration = 256\n",
    "amplitude = 1\n",
    "sigma = 128\n",
    "beta = 0.75\n",
    "pulse0 = GaussianPulseGate(duration, amplitude, sigma)\n",
    "circuit0 = pulse0.circuit(qubit)\n",
    "pulse1 = DragPulseGate(duration, amplitude, sigma, beta)\n",
    "circuit1 = pulse1.circuit(qubit)\n"
   ],
   "metadata": {
    "collapsed": false,
    "ExecuteTime": {
     "end_time": "2023-06-15T10:38:06.838694Z",
     "start_time": "2023-06-15T10:38:06.833184Z"
    }
   }
  },
  {
   "cell_type": "code",
   "execution_count": 20,
   "outputs": [],
   "source": [
    "simulator = CasqSimulator(FakeManila(), [0])\n"
   ],
   "metadata": {
    "collapsed": false,
    "ExecuteTime": {
     "end_time": "2023-06-15T10:38:07.420391Z",
     "start_time": "2023-06-15T10:38:07.405793Z"
    }
   }
  },
  {
   "cell_type": "code",
   "execution_count": 21,
   "outputs": [
    {
     "name": "stdout",
     "output_type": "stream",
     "text": [
      "{'0': 44, '1': 980}\n"
     ]
    }
   ],
   "source": [
    "result = simulator.run(circuit0).results[0]\n",
    "print(result.data.counts)\n"
   ],
   "metadata": {
    "collapsed": false,
    "ExecuteTime": {
     "end_time": "2023-06-15T10:38:11.304688Z",
     "start_time": "2023-06-15T10:38:07.959912Z"
    }
   }
  },
  {
   "cell_type": "code",
   "execution_count": 22,
   "outputs": [
    {
     "name": "stdout",
     "output_type": "stream",
     "text": [
      "{'0': 47, '1': 977}\n"
     ]
    }
   ],
   "source": [
    "result = simulator.run(circuit1).results[0]\n",
    "print(result.data.counts)\n"
   ],
   "metadata": {
    "collapsed": false,
    "ExecuteTime": {
     "end_time": "2023-06-15T10:38:14.661488Z",
     "start_time": "2023-06-15T10:38:11.308141Z"
    }
   }
  },
  {
   "cell_type": "code",
   "execution_count": null,
   "outputs": [],
   "source": [],
   "metadata": {
    "collapsed": false
   }
  }
 ],
 "metadata": {
  "kernelspec": {
   "display_name": "Python 3",
   "language": "python",
   "name": "python3"
  },
  "language_info": {
   "codemirror_mode": {
    "name": "ipython",
    "version": 2
   },
   "file_extension": ".py",
   "mimetype": "text/x-python",
   "name": "python",
   "nbconvert_exporter": "python",
   "pygments_lexer": "ipython2",
   "version": "2.7.6"
  }
 },
 "nbformat": 4,
 "nbformat_minor": 0
}
